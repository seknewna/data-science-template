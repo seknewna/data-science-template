{
 "cells": [
  {
   "cell_type": "markdown",
   "id": "2baaa681-e813-428b-9010-4508b7291011",
   "metadata": {},
   "source": [
    "# Programming Assignment-1\n",
    "## Estimating Chichewa Speakers\n",
    "### Background\n",
    "This notebook provides statistics about the language of **Chichewa**. \n",
    "More specifically, the goal is to generate an accurate estimate of total number of people who speak this language. Note that Chichewa also includes the alternate names: *Chewa*, *Nyanja*, *Chinyanja*. In order to provide context, first, let us indicate the countries where the language is spoken. \n",
    "1. **Malawi.** About 70% of the population speak Chichewa. <a name=\"cite_ref-1\"></a>[<sup>[1]</sup>](#cite_note-1)\n",
    "2. **Zambia.** About 20% of the population speak the language. <a name=\"cite_ref-2\"></a>[<sup>[2]</sup>](#cite_note-2)\n",
    "3. **Mozamabique.** Less than 1% of the population speak the language. <a name=\"cite_ref-3\"></a>[<sup>[3]</sup>](#cite_note-3)\n",
    "4. **Zimbabwe.** Although Chichewa seem to be one of the official languages for Zimbabwe, I havent found any data yet showing how many people speak the language.\n",
    "5. **Tanzania.** Has a border with Malawi in the northen region where people speak Tumbuka, so it makes sense that there maybe no Chichewa speaking people there. Otherwise, I didnot find any data on proportion of the population who speak the language.\n",
    "\n",
    "Based on the analysis in this notebook, as of 2023, there are **21,482,292** people who speak Chichewa distributed across three countries: Malawi (70%), Zambia (18%) and Mozambique(12%).\n",
    "\n",
    "The [Humanitarian data website](https://data.humdata.org/dataset/) contains data about languages for some of these countries. The HUMDATA links are provided below:\n",
    "- [Zambia languages](https://data.humdata.org/dataset/zambia-languages)\n",
    "- [Malawi languages](https://data.humdata.org/dataset/malawi-languages)\n",
    "- [Mozambique languages](https://data.humdata.org/dataset/mozambique-languages)\n",
    "\n",
    "Since I was not very sure of some of the numbers from [humdata](https://data.humdata.org), I decided to check with the actual sources as follows:\n",
    ">**Malawi and Zambia.** I could not find any current surveys with data on languages spoken but I still found something in the DHS. In the DHS, they ask about survey respondent's native language. Although this data is not included in DHS reports (as they seem to collect this piece of data as interview metadata), its still a useful source of data for languages spoken. For *Zimbabwe, Tanzania and Mozambique* the DHS does'nt have this information as they only provide languages as language-1, language-2 etc except for the major languages.\n",
    "\n",
    "> ### 🚨 Assignment Tasks  \n",
    "> 1. Read the notebook carefully and answer the questions as asked.  \n",
    "> 2. Complete any missing code where it says **\"ADD YOUR CODE\"**.\n",
    ">3. In some cases, you may be asked to write a whole function.\n",
    "\n",
    "### Datasets \n",
    "For this assignment, you will use the following datasets:\n",
    "#### Malawi 2015-16 DHS \n",
    "- [Dataset folder](https://drive.google.com/drive/folders/1ygZmjsphEfTed-Tir_nPrNMq1Y44EtS7?usp=sharing)\n",
    "- Data file: ```MWPR7AFL.DTA```\n",
    "#### Malawi Population\n",
    "- [Population data](https://drive.google.com/drive/folders/1T7C0fkwfsOAeAWHFj3lKIZgCYHRfbha0?usp=sharing)\n",
    "\n",
    "## References\n",
    "<a name=\"cite_note-1\"></a>1. [^](#cite_ref-1) 2015-16 MDHS and [humdata](https://data.humdata.org/dataset/malawi-languages)\n",
    "\n",
    "<a name=\"cite_note-2\"></a>2. [^](#cite_ref-2) 2018 Zambia DHS and [humdata](https://data.humdata.org/dataset/zambia-languages)\n",
    "\n",
    "<a name=\"cite_note-3\"></a>3. [^](#cite_ref-3) [Humdata](https://data.humdata.org/dataset/mozambique-languages)"
   ]
  },
  {
   "cell_type": "markdown",
   "id": "cbb0234e",
   "metadata": {},
   "source": [
    "## Setup Input Folders\n",
    "In this section, make sure to define the folders where your data is stored on your machine.  \n",
    "I find it helpful to set up the working directory and input data folders right at the start of the notebook.  \n",
    "To keep things organized, I use the naming convention: `FILE_{NAME}` for files and `DIR_{NAME}` for folders.\n",
    "\n",
    "We'll be using the [`pathlib`](https://docs.python.org/3/library/pathlib.html) library—it's the recommended approach for managing file paths in Python.\n"
   ]
  },
  {
   "cell_type": "code",
   "execution_count": 2,
   "id": "e6313ff1",
   "metadata": {},
   "outputs": [
    {
     "data": {
      "text/plain": [
       "PosixPath('/Users/slema/Desktop/DSCBI/data-science-template/notebooks')"
      ]
     },
     "execution_count": 2,
     "metadata": {},
     "output_type": "execute_result"
    }
   ],
   "source": [
    "from pathlib import Path\n",
    "Path.cwd()"
   ]
  },
  {
   "cell_type": "code",
   "execution_count": 3,
   "id": "ba8273ba",
   "metadata": {},
   "outputs": [],
   "source": [
    "# Uncomment the following lines and add your code to define the directories and files\n",
    "DIR_DATA = Path.cwd() / \"population\"\n",
    "DIR_DHS = Path.cwd() / \"DHS\"\n",
    "\n",
    "# Population by enumeration area (EA) for Malawi\n",
    "FILE_POP_MW = DIR_DATA / \"malawi-2018-population.csv\"\n",
    "\n",
    "# MW DHS-2015-16 HH members stata data file\n",
    "FILE_MW_DHS = DIR_DHS / \"MWPR7AFL.DTA\""
   ]
  },
  {
   "cell_type": "markdown",
   "id": "5f391f0a-b3d7-4dfc-985a-c8769c327f81",
   "metadata": {},
   "source": [
    "## Estimating Chichewa Speakers in Malawi Based on Tribe\n",
    "Malawi is the primary country where Chichewa is spoken. In the absence of precise language data, we begin by estimating the number of Chichewa speakers based on tribal affiliation.\n",
    "### Estimated Population by Tribe in Malawi\n",
    "\n",
    "- **Chewa**: 6,020,945  \n",
    "- **Tumbuka**: 1,614,955  \n",
    "- **Lomwe**: 3,302,634  \n",
    "- **Tonga**: 310,031  \n",
    "- **Yao**: 2,321,763  \n",
    "- **Sena**: 670,908  \n",
    "- **Nkhonde**: 174,430  \n",
    "- **Lambya**: 106,769  \n",
    "- **Sukwa**: 93,762  \n",
    "- **Manganja**: 559,887  \n",
    "- **Nyanja**: 324,272  \n",
    "- **Ngoni**: 1,819,347  \n",
    "- **Other**: 186,319  \n",
    "\n",
    "In Malawi, these groups speak Chichewa:\n",
    "- **Chewa**: 6,020,945  \n",
    "- **Nyanja**: 324,272  \n",
    "- **Ngoni**: 1,819,347  \n",
    "- **Other**: 186,319  \n",
    "- **Manganja**: 559,887  "
   ]
  },
  {
   "cell_type": "markdown",
   "id": "720c404f",
   "metadata": {},
   "source": [
    "### Task-1: \n",
    "- Using the information provided in cell above, write a function that estimates the number of Chichewa speakers in Malawi based on tribal groups.\n",
    "- Ensure your function returns a value representing the chichewa speaking population\n",
    "- Name your function: ```mw_estimate_chichewa_speaking_based_on_tribe```\n",
    "- Call your function and print out the number of Chichewa speakers"
   ]
  },
  {
   "cell_type": "markdown",
   "id": "147b0949",
   "metadata": {},
   "source": [
    "## Chichewa speakers in Malawi Based on District of Residence\n",
    "In this section, we estimate Chichewa speakers based on the district of residence.  For example, we can assume that people from the following districts speak Chichewa: \n",
    "> Mzuzu City, Kasungu, Nkhotakota, Ntchisi, Dowa, Salima, Lilongwe,  \n",
    "> Mchinji, Dedza, Ntcheu, Lilongwe City,  \n",
    "> Zomba, Chiradzulu, Blantyre, Mwanza, Thyolo,  \n",
    "> Mulanje, Phalombe, Balaka, Neno,  \n",
    "> Zomba City, Blantyre City"
   ]
  },
  {
   "cell_type": "markdown",
   "id": "5fbb15a6",
   "metadata": {},
   "source": [
    "### Task 2 – Part 1: Generate Population by District\n",
    "\n",
    "- Use the Malawi population data to write a function that reads the relevant data files and returns a DataFrame containing population totals by district.  \n",
    "- Name your function: `generate_dist_pop`"
   ]
  },
  {
   "cell_type": "code",
   "execution_count": 56,
   "id": "37b9c238",
   "metadata": {},
   "outputs": [],
   "source": [
    "import pandas as pd\n",
    "import numpy as np\n",
    "malawi_pop = pd.read_csv(FILE_POP_MW)\n",
    "malawi_pop['total_population'] = [x.replace(\" people\", \"\") for x in malawi_pop['total_population']]\n",
    "malawi_pop['total_population'] = [x.replace(\",\", \"\") for x in malawi_pop['total_population']]\n",
    "malawi_pop['total_population'] = malawi_pop['total_population'].to_numpy().astype(float).astype(int)"
   ]
  },
  {
   "cell_type": "code",
   "execution_count": 57,
   "id": "906f1bbb",
   "metadata": {},
   "outputs": [
    {
     "data": {
      "text/html": [
       "<div>\n",
       "<style scoped>\n",
       "    .dataframe tbody tr th:only-of-type {\n",
       "        vertical-align: middle;\n",
       "    }\n",
       "\n",
       "    .dataframe tbody tr th {\n",
       "        vertical-align: top;\n",
       "    }\n",
       "\n",
       "    .dataframe thead th {\n",
       "        text-align: right;\n",
       "    }\n",
       "</style>\n",
       "<table border=\"1\" class=\"dataframe\">\n",
       "  <thead>\n",
       "    <tr style=\"text-align: right;\">\n",
       "      <th></th>\n",
       "      <th>total_population</th>\n",
       "    </tr>\n",
       "    <tr>\n",
       "      <th>district_name</th>\n",
       "      <th></th>\n",
       "    </tr>\n",
       "  </thead>\n",
       "  <tbody>\n",
       "    <tr>\n",
       "      <th>Balaka</th>\n",
       "      <td>77241</td>\n",
       "    </tr>\n",
       "    <tr>\n",
       "      <th>Blantyre</th>\n",
       "      <td>84931</td>\n",
       "    </tr>\n",
       "    <tr>\n",
       "      <th>Blantyre City</th>\n",
       "      <td>131433</td>\n",
       "    </tr>\n",
       "    <tr>\n",
       "      <th>Chikwawa</th>\n",
       "      <td>70346</td>\n",
       "    </tr>\n",
       "    <tr>\n",
       "      <th>Chiradzulu</th>\n",
       "      <td>53328</td>\n",
       "    </tr>\n",
       "    <tr>\n",
       "      <th>...</th>\n",
       "      <td>...</td>\n",
       "    </tr>\n",
       "    <tr>\n",
       "      <th>rumphi</th>\n",
       "      <td>48629</td>\n",
       "    </tr>\n",
       "    <tr>\n",
       "      <th>salima</th>\n",
       "      <td>97963</td>\n",
       "    </tr>\n",
       "    <tr>\n",
       "      <th>thyolo</th>\n",
       "      <td>131829</td>\n",
       "    </tr>\n",
       "    <tr>\n",
       "      <th>zomba</th>\n",
       "      <td>125755</td>\n",
       "    </tr>\n",
       "    <tr>\n",
       "      <th>zomba city</th>\n",
       "      <td>16474</td>\n",
       "    </tr>\n",
       "  </tbody>\n",
       "</table>\n",
       "<p>160 rows × 1 columns</p>\n",
       "</div>"
      ],
      "text/plain": [
       "                   total_population\n",
       "district_name                      \n",
       "  Balaka                      77241\n",
       "  Blantyre                    84931\n",
       "  Blantyre City              131433\n",
       "  Chikwawa                    70346\n",
       "  Chiradzulu                  53328\n",
       "...                             ...\n",
       "rumphi                        48629\n",
       "salima                        97963\n",
       "thyolo                       131829\n",
       "zomba                        125755\n",
       "zomba city                    16474\n",
       "\n",
       "[160 rows x 1 columns]"
      ]
     },
     "execution_count": 57,
     "metadata": {},
     "output_type": "execute_result"
    }
   ],
   "source": [
    "def generate_dist_pop(data, dist_col, pop_col):\n",
    "    # select columns\n",
    "    df_col = data[[dist_col, pop_col]]\n",
    "    \n",
    "    return data.groupby(dist_col)[pop_col].sum().to_frame()\n",
    "\n",
    "generate_dist_pop(malawi_pop, \"district_name\", \"total_population\")\n",
    "    "
   ]
  },
  {
   "cell_type": "markdown",
   "id": "9358cc50",
   "metadata": {},
   "source": [
    "### Task 2 – Part 2: Estimate Chichewa-Speaking Population\n",
    "\n",
    "- Write a function that takes the district-level population DataFrame and estimates the number of Chichewa speakers.  \n",
    "- Name your function: `mw_estimate_chichewa_speakers_by_district`  \n",
    "- Call this function and the previous function as needed and print the total estimated number of Chichewa speakers.\n"
   ]
  },
  {
   "cell_type": "code",
   "execution_count": null,
   "id": "fb6f4084",
   "metadata": {},
   "outputs": [],
   "source": []
  },
  {
   "cell_type": "code",
   "execution_count": 10,
   "id": "fcc463a4",
   "metadata": {},
   "outputs": [],
   "source": [
    "import pandas as pd\n",
    "malawi_pop = pd.read_csv(FILE_POP_MW)\n",
    "malawi_pop.head()\n",
    "# malawi_pop.TA_NAME.unique()\n",
    "malawi_pop.to_excel(\"malpop.xlsx\")"
   ]
  },
  {
   "cell_type": "markdown",
   "id": "428487e8",
   "metadata": {},
   "source": [
    "## Chichewa speakers in Malawi Based on DHS Data\n",
    "In the Demographic and Health Survey (DHS), we estimate the number of Chichewa speakers using responses to the question on the primary language spoken by the respondent.  \n",
    "While the DHS does not provide exhaustive linguistic data, the self-reported language question offers a useful proxy for estimating language distribution across the population.  \n",
    "This approach allows us to approximate the number of Chichewa speakers based on individual-level survey data that is nationally representative.\n",
    "\n",
    "### Relevant Variables Column Name Mapping in STATA file\n",
    "\n",
    "- `hv045b`: `intv_lan` — Interviewer's language  \n",
    "- `hv045c`: `resp_nativ_lan` — Respondent's native language  \n",
    "- `hv046`: `translator` — Translator used  \n",
    "- `hv002`: `hh_num` — Household number  \n",
    "- `hv005`: `weight` — Sampling weight  \n",
    "- `hv045a`: `qn_lan` — Language of the questionnaire  \n",
    "- `hv001`: `cluster_number` — Cluster number  \n",
    "- `hv004`: `area_unit` — Area unit  \n",
    "\n",
    "### Language Code Mapping\n",
    "\n",
    "- `1`: **English**  \n",
    "- `2`: **Chichewa**  \n",
    "- `3`: **Tumbuka**  \n",
    "- `6`: **Other**  \n",
    "\n",
    "### Other Useful Information\n",
    "- Total Number of Sampled Housolds in 2015-2016 DHS: 26, 361\n",
    "- Malawi projected population for 2023: 19, 809, 511"
   ]
  },
  {
   "cell_type": "markdown",
   "id": "2c1ee3e7",
   "metadata": {},
   "source": [
    "### Task 3: Estimate Chichewa Speakers from DHS Using 2023 Population Data\n",
    "\n",
    "- Write a function that estimates the number of Chichewa speakers using the respondent language variable from the DHS dataset.  \n",
    "- Call the function and print the total estimated number of Chichewa speakers.\n",
    "\n",
    "**Hints**\n",
    "- Report the unweighted estimate \n",
    "- Use the variable descriptions provided above (e.g., respondent language, household weights).\n",
    "- After loading the data, validate your calculations by checking against the total number of households.\n",
    "- Ensure your function is flexible and can accept multiple arguments as needed (e.g., the dataset, relevant column names, filters)."
   ]
  },
  {
   "cell_type": "code",
   "execution_count": 22,
   "id": "3a15bb61",
   "metadata": {},
   "outputs": [
    {
     "data": {
      "text/plain": [
       "hv045c\n",
       "chichewa    91546\n",
       "tumbuka     17350\n",
       "other       11292\n",
       "english       304\n",
       "Name: count, dtype: int64"
      ]
     },
     "execution_count": 22,
     "metadata": {},
     "output_type": "execute_result"
    }
   ],
   "source": [
    "mal_DHS = pd.read_stata(FILE_MW_DHS)\n",
    "mal_DHS['hv045c'].value_counts()"
   ]
  }
 ],
 "metadata": {
  "kernelspec": {
   "display_name": "base",
   "language": "python",
   "name": "python3"
  },
  "language_info": {
   "codemirror_mode": {
    "name": "ipython",
    "version": 3
   },
   "file_extension": ".py",
   "mimetype": "text/x-python",
   "name": "python",
   "nbconvert_exporter": "python",
   "pygments_lexer": "ipython3",
   "version": "3.13.3"
  }
 },
 "nbformat": 4,
 "nbformat_minor": 5
}
